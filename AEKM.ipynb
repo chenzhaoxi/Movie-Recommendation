{
 "cells": [
  {
   "cell_type": "code",
   "execution_count": 1,
   "metadata": {},
   "outputs": [],
   "source": [
    "import numpy as np\n",
    "from sklearn.cluster import KMeans\n",
    "from sklearn.externals import joblib\n",
    "import pandas as pd \n",
    "from sklearn.model_selection import train_test_split\n",
    "import torch\n",
    "import torchvision \n",
    "import torch.nn as nn\n",
    "import torch.nn.functional as F\n",
    "import torch.utils.data as Data \n",
    "import torch.optim as optim\n",
    "from torch.autograd import Variable\n",
    "import matplotlib.pyplot as plt\n",
    "%matplotlib inline"
   ]
  },
  {
   "cell_type": "markdown",
   "metadata": {},
   "source": [
    "### Load datasets"
   ]
  },
  {
   "cell_type": "code",
   "execution_count": 2,
   "metadata": {},
   "outputs": [
    {
     "name": "stdout",
     "output_type": "stream",
     "text": [
      "===========================================================\n",
      "Loading ratings\n",
      "   userId  movieId  rating   timestamp\n",
      "0       1       31     2.5  1260759144\n",
      "1       1     1029     3.0  1260759179\n",
      "2       1     1061     3.0  1260759182\n",
      "===========================================================\n",
      "Loading movies\n",
      "   movieId                    title  \\\n",
      "0        1         Toy Story (1995)   \n",
      "1        2           Jumanji (1995)   \n",
      "2        3  Grumpier Old Men (1995)   \n",
      "\n",
      "                                        genres  \n",
      "0  Adventure|Animation|Children|Comedy|Fantasy  \n",
      "1                   Adventure|Children|Fantasy  \n",
      "2                               Comedy|Romance  \n",
      "===========================================================\n",
      "Loading tags\n",
      "   userId  movieId                      tag   timestamp\n",
      "0      15      339  sandra 'boring' bullock  1138537770\n",
      "1      15     1955                  dentist  1193435061\n",
      "2      15     7478                 Cambodia  1170560997\n",
      "===========================================================\n",
      "Loading genome_scores\n",
      "   movieId  tagId  relevance\n",
      "0        1      1    0.02500\n",
      "1        1      2    0.02500\n",
      "2        1      3    0.05775\n",
      "===========================================================\n",
      "Loading genome_tags\n",
      "   tagId           tag\n",
      "0      1           007\n",
      "1      2  007 (series)\n",
      "2      3  18th century\n",
      "===========================================================\n",
      "Ok (*^_^*)\n"
     ]
    }
   ],
   "source": [
    "#path = 'movielens-20m-dataset'\n",
    "path = 'ml-latest-small'\n",
    "print(\"===========================================================\")\n",
    "print(\"Loading ratings\")\n",
    "rating = pd.read_csv(\"./\"+path+\"/rating.csv\")\n",
    "print(rating[:3])\n",
    "rating = np.array(rating)\n",
    "print(\"===========================================================\")\n",
    "print(\"Loading movies\")\n",
    "movie = pd.read_csv(\"./\"+path+\"/movie.csv\")\n",
    "print(movie[:3])\n",
    "movie = np.array(movie)\n",
    "print(\"===========================================================\")\n",
    "print(\"Loading tags\")\n",
    "tag = pd.read_csv(\"./\"+path+\"/tag.csv\")\n",
    "print(tag[:3])\n",
    "tag = np.array(tag)\n",
    "print(\"===========================================================\")\n",
    "print(\"Loading genome_scores\")\n",
    "genome_scores = pd.read_csv(\"./\"+path+\"/genome_scores.csv\")\n",
    "print(genome_scores[:3])\n",
    "genome_scores = np.array(genome_scores)\n",
    "print(\"===========================================================\")\n",
    "print(\"Loading genome_tags\")\n",
    "genome_tags = pd.read_csv(\"./\"+path+\"/genome_tags.csv\")\n",
    "print(genome_tags[:3])\n",
    "genome_tags = np.array(genome_tags)\n",
    "print(\"===========================================================\")\n",
    "print(\"Ok (*^_^*)\")"
   ]
  },
  {
   "cell_type": "markdown",
   "metadata": {},
   "source": [
    "### get n_user & n_movie"
   ]
  },
  {
   "cell_type": "code",
   "execution_count": 3,
   "metadata": {},
   "outputs": [
    {
     "name": "stdout",
     "output_type": "stream",
     "text": [
      "movie.shape (9125, 3)\n",
      "users who rated movies: (671,)\n",
      "users who taged movies (61,)\n",
      "number of users: (671,)\n"
     ]
    }
   ],
   "source": [
    "print(\"movie.shape\",movie.shape)  \n",
    "users1 = np.unique(rating[:,0])\n",
    "print(\"users who rated movies:\",users1.shape)  \n",
    "users2 = np.unique(tag[:,0])\n",
    "print(\"users who taged movies\",users2.shape)  \n",
    "users = np.unique(np.hstack((users1,users2)))\n",
    "print(\"number of users:\",users.shape) "
   ]
  },
  {
   "cell_type": "code",
   "execution_count": 4,
   "metadata": {},
   "outputs": [],
   "source": [
    "n_user = users.shape[0]\n",
    "n_movie = movie.shape[0]"
   ]
  },
  {
   "cell_type": "markdown",
   "metadata": {},
   "source": [
    "### Form data with shape (userid, movieid, relations)"
   ]
  },
  {
   "cell_type": "code",
   "execution_count": 5,
   "metadata": {},
   "outputs": [],
   "source": [
    "n_f = 3\n",
    "X = torch.Tensor(n_user,n_movie, n_f)  # | rate ########| mean_rate | XXXtag | XXXrelevance | genre(int) |"
   ]
  },
  {
   "cell_type": "code",
   "execution_count": 6,
   "metadata": {},
   "outputs": [
    {
     "name": "stdout",
     "output_type": "stream",
     "text": [
      "(100004, 2)\n",
      "(100004, 4)\n",
      "0\n"
     ]
    }
   ],
   "source": [
    "matrix_rate = np.ones((rating.shape[0],2))\n",
    "print(matrix_rate.shape)\n",
    "#mean_rate\n",
    "print(rating.shape) #(20000263, 4)\n",
    "for i in range(rating.shape[0]):\n",
    "    movieId,rate = rating[i,1:3]\n",
    "    movieId = movieId.astype(int)\n",
    "    if(movieId <= n_movie and rate != str):\n",
    "        matrix_rate[movieId-1,0] = matrix_rate[movieId-1,0] + rate\n",
    "        matrix_rate[movieId-1,1] = matrix_rate[movieId-1,1] + 1\n",
    "    if(i%1000000 == 0):\n",
    "        print(i)\n",
    "mean_rate = matrix_rate[:,0]/matrix_rate[:,1]\n",
    "#mean_rate.shape #(20000263,)"
   ]
  },
  {
   "cell_type": "code",
   "execution_count": 7,
   "metadata": {},
   "outputs": [
    {
     "name": "stdout",
     "output_type": "stream",
     "text": [
      "0\n"
     ]
    }
   ],
   "source": [
    "#save user's rate\n",
    "for i in range(rating.shape[0]):\n",
    "    userId,movieId,rate = rating[i,0:3]\n",
    "    movieId = movieId.astype(int)\n",
    "    if(movieId <= n_movie and rate != str):   #有的rating里的movieId,MOVIE表里没有\n",
    "        X[userId - 1,movieId - 1,0] = rate\n",
    "    if(i%1000000 == 0):\n",
    "        print(i)"
   ]
  },
  {
   "cell_type": "code",
   "execution_count": 8,
   "metadata": {},
   "outputs": [
    {
     "name": "stdout",
     "output_type": "stream",
     "text": [
      "0\n"
     ]
    }
   ],
   "source": [
    "#save mean_rate 巨慢。。。\n",
    "\n",
    "for i in range(n_movie):\n",
    "    X[:,i,1] = mean_rate[i]\n",
    "    if(i%1000000 == 0):\n",
    "        print(i)"
   ]
  },
  {
   "cell_type": "code",
   "execution_count": 9,
   "metadata": {},
   "outputs": [],
   "source": [
    "#save user's tag： tensor里只能存同一种数据类型的变量\n",
    "#超级慢。。\n",
    "#for i in range(tag.shape[0]):\n",
    "#    userId,movieId,tag_desc = tag[i,0:3]\n",
    "#    #判断tagId是否存在\n",
    "#    if(np.where(genome_tags[:,1] == tag_desc)[0].size != 0):\n",
    "#        tagId = np.where(genome_tags == tag_desc)[0][0]\n",
    "#        if(movieId <= n_movie ):   #有的rating里的movieId,MOVIE表里没有\n",
    "#            X[userId - 1,movieId - 1,2] = float(tagId)\n",
    "#            '''for j in range(genome_scores.shape[0]):\n",
    "#                if(genome_scores[j,0] == movieId and genome_scores[j,1] == tagId):\n",
    "#                    X[userId - 1,movieId - 1,3] = genome_scores[j,2]'''\n",
    "#    if(i%10000 == 0):\n",
    "#        print(i)"
   ]
  },
  {
   "cell_type": "code",
   "execution_count": 10,
   "metadata": {},
   "outputs": [],
   "source": [
    "genre_list = np.array(['Action','Adventure','Animation','Children','Comedy','Crime','Documentary','Drama','Fantasy','Film-Noir','Horror','Musical','Mystery','Romance','Sci-Fi','Thriller','War','Western'])"
   ]
  },
  {
   "cell_type": "code",
   "execution_count": 11,
   "metadata": {},
   "outputs": [],
   "source": [
    "#save genre\n",
    "for i in range(movie.shape[0]):\n",
    "    movieId, genres = movie[i,(0,2)]\n",
    "    genres_split = genres.split('|')\n",
    "    for genre in genres_split:\n",
    "        x = 0\n",
    "        index = np.where(genre_list ==genre)[0]\n",
    "        if(index.size > 0):\n",
    "            x = x + 2**index\n",
    "    if(movieId <= n_movie ):\n",
    "        X[:,movieId - 1,2] = float(x)"
   ]
  },
  {
   "cell_type": "code",
   "execution_count": 12,
   "metadata": {},
   "outputs": [
    {
     "name": "stdout",
     "output_type": "stream",
     "text": [
      "\n",
      "( 0  ,.,.) = \n",
      " -3.5238e-01  1.5844e+00 -2.0074e-05\n",
      " -3.5238e-01  1.1485e+00 -2.0074e-05\n",
      " -3.5238e-01  9.1786e-01 -8.1268e-07\n",
      "                 ⋮                  \n",
      " -3.5238e-01 -1.0070e+00 -2.0696e-05\n",
      " -3.5238e-01 -1.0070e+00 -2.0696e-05\n",
      " -3.5238e-01 -1.0070e+00 -2.0696e-05\n",
      "\n",
      "( 1  ,.,.) = \n",
      " -2.7112e-01  1.5844e+00 -2.0074e-05\n",
      " -2.7112e-01  1.1485e+00 -2.0074e-05\n",
      " -2.7112e-01  9.1786e-01 -8.1268e-07\n",
      "                 ⋮                  \n",
      " -2.7112e-01 -1.0070e+00 -2.0696e-05\n",
      " -2.7112e-01 -1.0070e+00 -2.0696e-05\n",
      " -2.7112e-01 -1.0070e+00 -2.0696e-05\n",
      "\n",
      "( 2  ,.,.) = \n",
      " -2.7212e-01  1.5844e+00 -2.0074e-05\n",
      " -2.7212e-01  1.1485e+00 -2.0074e-05\n",
      " -2.7212e-01  9.1786e-01 -8.1268e-07\n",
      "                 ⋮                  \n",
      " -2.7212e-01 -1.0070e+00 -2.0696e-05\n",
      " -2.7212e-01 -1.0070e+00 -2.0696e-05\n",
      " -2.7212e-01 -1.0070e+00 -2.0696e-05\n",
      " ... \n",
      "\n",
      "(668 ,.,.) = \n",
      " -2.7905e-01  1.5844e+00 -2.0074e-05\n",
      " -2.7905e-01  1.1485e+00 -2.0074e-05\n",
      " -2.7905e-01  9.1786e-01 -8.1268e-07\n",
      "                 ⋮                  \n",
      " -2.7905e-01 -1.0070e+00 -2.0696e-05\n",
      " -2.7905e-01 -1.0070e+00 -2.0696e-05\n",
      " -2.7905e-01 -1.0070e+00 -2.0696e-05\n",
      "\n",
      "(669 ,.,.) = \n",
      "  7.3868e+01  1.5844e+00 -2.0074e-05\n",
      " -2.3958e-01  1.1485e+00 -2.0074e-05\n",
      " -2.3958e-01  9.1786e-01 -8.1268e-07\n",
      "                 ⋮                  \n",
      " -2.3958e-01 -1.0070e+00 -2.0696e-05\n",
      " -2.3958e-01 -1.0070e+00 -2.0696e-05\n",
      " -2.3958e-01 -1.0070e+00 -2.0696e-05\n",
      "\n",
      "(670 ,.,.) = \n",
      "  2.4969e+01  1.5844e+00 -2.0074e-05\n",
      " -2.4900e-01  1.1485e+00 -2.0074e-05\n",
      " -2.4900e-01  9.1786e-01 -8.1268e-07\n",
      "                 ⋮                  \n",
      " -2.4900e-01 -1.0070e+00 -2.0696e-05\n",
      " -2.4900e-01 -1.0070e+00 -2.0696e-05\n",
      " -2.4900e-01 -1.0070e+00 -2.0696e-05\n",
      "[torch.FloatTensor of size 671x9125x3]\n",
      "\n"
     ]
    }
   ],
   "source": [
    "X_org = X.clone()\n",
    "#normalize data\n",
    "Xmean = torch.mean(X, 1, True)\n",
    "Xstd = torch.var(X, 1, True)\n",
    "torchvision.transforms.Normalize(Xmean, Xstd)(X)\n",
    "print(X)"
   ]
  },
  {
   "cell_type": "markdown",
   "metadata": {},
   "source": [
    "# Training process"
   ]
  },
  {
   "cell_type": "markdown",
   "metadata": {},
   "source": [
    "### Train the encoder\n",
    "\n",
    "How to make encoded vectors have 'round' boundaries for each cluster????"
   ]
  },
  {
   "cell_type": "code",
   "execution_count": 13,
   "metadata": {},
   "outputs": [],
   "source": [
    "class AutoEncoder(nn.Module):\n",
    "    def __init__(self):\n",
    "        super(AutoEncoder, self).__init__()\n",
    "\n",
    "        # encoder\n",
    "        self.encoder = nn.Sequential(\n",
    "            nn.Linear(9125*3, 90)\n",
    "        )\n",
    "        # decoder\n",
    "        self.decoder = nn.Sequential(\n",
    "            nn.Linear(90, 9125*3)\n",
    "        )\n",
    "\n",
    "    def forward(self, x):\n",
    "        encoded = self.encoder(x)\n",
    "        decoded = self.decoder(encoded)\n",
    "        return encoded, decoded\n",
    "\n",
    "autoencoder = AutoEncoder()"
   ]
  },
  {
   "cell_type": "code",
   "execution_count": 14,
   "metadata": {},
   "outputs": [
    {
     "name": "stdout",
     "output_type": "stream",
     "text": [
      "AutoEncoder(\n",
      "  (encoder): Sequential(\n",
      "    (0): Linear(in_features=27375, out_features=90, bias=True)\n",
      "  )\n",
      "  (decoder): Sequential(\n",
      "    (0): Linear(in_features=90, out_features=27375, bias=True)\n",
      "  )\n",
      ")\n"
     ]
    }
   ],
   "source": [
    "print(autoencoder)"
   ]
  },
  {
   "cell_type": "code",
   "execution_count": 32,
   "metadata": {},
   "outputs": [],
   "source": [
    "from torch.optim.optimizer import Optimizer, required\n",
    "\n",
    "class MySGD(Optimizer):\n",
    "    def __init__(self, params, lr=required, momentum=0, dampening=0,\n",
    "                 weight_decay1=0, weight_decay2=0, nesterov=False):\n",
    "        defaults = dict(lr=lr, momentum=momentum, dampening=dampening,\n",
    "                        weight_decay1=weight_decay1, weight_decay2=weight_decay2, nesterov=nesterov)\n",
    "        if nesterov and (momentum <= 0 or dampening != 0):\n",
    "            raise ValueError(\"Nesterov momentum requires a momentum and zero dampening\")\n",
    "        super(MySGD, self).__init__(params, defaults)\n",
    "\n",
    "    def __setstate__(self, state):\n",
    "        super(MySGD, self).__setstate__(state)\n",
    "        for group in self.param_groups:\n",
    "            group.setdefault('nesterov', False)\n",
    "\n",
    "    def step(self, closure=None):\n",
    "        \"\"\"Performs a single optimization step.\n",
    "\n",
    "        Arguments:\n",
    "            closure (callable, optional): A closure that reevaluates the model\n",
    "                and returns the loss.\n",
    "        \"\"\"\n",
    "        loss = None\n",
    "        if closure is not None:\n",
    "            loss = closure()\n",
    "\n",
    "        for group in self.param_groups:\n",
    "            weight_decay1 = group['weight_decay1']\n",
    "            weight_decay2 = group['weight_decay2']\n",
    "            momentum = group['momentum']\n",
    "            dampening = group['dampening']\n",
    "            nesterov = group['nesterov']\n",
    "\n",
    "            for p in group['params']:\n",
    "                if p.grad is None:\n",
    "                    continue\n",
    "                d_p = p.grad.data\n",
    "                if weight_decay1 != 0:\n",
    "                    d_p.add_(weight_decay1, torch.sign(p.data))\n",
    "                if weight_decay2 != 0:\n",
    "                    d_p.add_(weight_decay2, p.data)\n",
    "                if momentum != 0:\n",
    "                    param_state = self.state[p]\n",
    "                    if 'momentum_buffer' not in param_state:\n",
    "                        buf = param_state['momentum_buffer'] = torch.zeros_like(p.data)\n",
    "                        buf.mul_(momentum).add_(d_p)\n",
    "                    else:\n",
    "                        buf = param_state['momentum_buffer']\n",
    "                        buf.mul_(momentum).add_(1 - dampening, d_p)\n",
    "                    if nesterov:\n",
    "                        d_p = d_p.add(momentum, buf)\n",
    "                    else:\n",
    "                        d_p = buf\n",
    "\n",
    "                p.data.add_(-group['lr'], d_p)\n",
    "\n",
    "        return loss"
   ]
  },
  {
   "cell_type": "markdown",
   "metadata": {},
   "source": [
    "### with L1 regu"
   ]
  },
  {
   "cell_type": "code",
   "execution_count": 34,
   "metadata": {},
   "outputs": [
    {
     "name": "stdout",
     "output_type": "stream",
     "text": [
      "epoch: 0 , loss: 5.4288201332092285\n",
      "epoch: 1 , loss: 5.426554203033447\n",
      "epoch: 2 , loss: 5.422299861907959\n",
      "epoch: 3 , loss: 5.416068077087402\n",
      "epoch: 4 , loss: 5.408793926239014\n",
      "epoch: 5 , loss: 5.400267601013184\n",
      "epoch: 6 , loss: 5.391228199005127\n",
      "epoch: 7 , loss: 5.381555557250977\n",
      "epoch: 8 , loss: 5.37239408493042\n",
      "epoch: 9 , loss: 5.363414287567139\n"
     ]
    }
   ],
   "source": [
    "LR = 0.0001\n",
    "EPOCH = 10\n",
    "\n",
    "AELoss = []\n",
    "optimizer = MySGD(autoencoder.parameters(), weight_decay1=0.001, lr=LR,momentum=0.9)\n",
    "loss_func = nn.MSELoss()\n",
    "\n",
    "def orth_l1(W):\n",
    "    I = torch.diag(W.size()[0])\n",
    "    return torch.sum(W.mm(W.transpose())-I)\n",
    "\n",
    "for epoch in range(EPOCH):\n",
    "    X_tr = Variable(X.view(-1, 9125*3))\n",
    "    \n",
    "    encoded, decoded = autoencoder(X_tr)\n",
    "\n",
    "    loss = loss_func(decoded, X_tr)      # mean square error\n",
    "    AELoss.append(loss.data[0])\n",
    "    if epoch%10==0:\n",
    "        print('epoch:',epoch,', loss:', loss.data[0])\n",
    "    optimizer.zero_grad()               # clear gradients for this training step\n",
    "    loss.backward()                     # backpropagation, compute gradients\n",
    "    optimizer.step()                    # apply gradients   "
   ]
  },
  {
   "cell_type": "markdown",
   "metadata": {},
   "source": [
    "### with L2 regu"
   ]
  },
  {
   "cell_type": "code",
   "execution_count": 21,
   "metadata": {},
   "outputs": [
    {
     "name": "stdout",
     "output_type": "stream",
     "text": [
      "epoch: 0 , loss: 4.9680657386779785\n",
      "epoch: 1 , loss: 4.967865467071533\n",
      "epoch: 2 , loss: 4.967511177062988\n",
      "epoch: 3 , loss: 4.967039108276367\n",
      "epoch: 4 , loss: 4.966395378112793\n",
      "epoch: 5 , loss: 4.965687274932861\n",
      "epoch: 6 , loss: 4.964868545532227\n",
      "epoch: 7 , loss: 4.964041709899902\n",
      "epoch: 8 , loss: 4.963265895843506\n",
      "epoch: 9 , loss: 4.962388038635254\n",
      "epoch: 10 , loss: 4.9615159034729\n",
      "epoch: 11 , loss: 4.960652828216553\n",
      "epoch: 12 , loss: 4.959858417510986\n",
      "epoch: 13 , loss: 4.9591240882873535\n",
      "epoch: 14 , loss: 4.958434581756592\n",
      "epoch: 15 , loss: 4.957735538482666\n",
      "epoch: 16 , loss: 4.957118988037109\n",
      "epoch: 17 , loss: 4.956523418426514\n",
      "epoch: 18 , loss: 4.9560441970825195\n",
      "epoch: 19 , loss: 4.955591201782227\n",
      "epoch: 20 , loss: 4.955132007598877\n",
      "epoch: 21 , loss: 4.9547247886657715\n",
      "epoch: 22 , loss: 4.954334259033203\n",
      "epoch: 23 , loss: 4.953993797302246\n",
      "epoch: 24 , loss: 4.953683853149414\n",
      "epoch: 25 , loss: 4.9534125328063965\n",
      "epoch: 26 , loss: 4.953122615814209\n",
      "epoch: 27 , loss: 4.952850341796875\n",
      "epoch: 28 , loss: 4.952587127685547\n",
      "epoch: 29 , loss: 4.952381134033203\n",
      "epoch: 30 , loss: 4.952186107635498\n",
      "epoch: 31 , loss: 4.951985836029053\n",
      "epoch: 32 , loss: 4.951817512512207\n",
      "epoch: 33 , loss: 4.951647758483887\n",
      "epoch: 34 , loss: 4.951487064361572\n",
      "epoch: 35 , loss: 4.951340675354004\n",
      "epoch: 36 , loss: 4.951205730438232\n",
      "epoch: 37 , loss: 4.951077461242676\n",
      "epoch: 38 , loss: 4.950947284698486\n",
      "epoch: 39 , loss: 4.950816631317139\n",
      "epoch: 40 , loss: 4.950707912445068\n",
      "epoch: 41 , loss: 4.950613498687744\n",
      "epoch: 42 , loss: 4.950490474700928\n",
      "epoch: 43 , loss: 4.9503936767578125\n",
      "epoch: 44 , loss: 4.95029878616333\n",
      "epoch: 45 , loss: 4.95020866394043\n",
      "epoch: 46 , loss: 4.95011568069458\n",
      "epoch: 47 , loss: 4.9500412940979\n",
      "epoch: 48 , loss: 4.949958324432373\n",
      "epoch: 49 , loss: 4.949891090393066\n",
      "epoch: 50 , loss: 4.949836254119873\n",
      "epoch: 51 , loss: 4.949761867523193\n",
      "epoch: 52 , loss: 4.9496965408325195\n",
      "epoch: 53 , loss: 4.94962739944458\n",
      "epoch: 54 , loss: 4.949569225311279\n",
      "epoch: 55 , loss: 4.949492931365967\n",
      "epoch: 56 , loss: 4.94944429397583\n",
      "epoch: 57 , loss: 4.949362754821777\n",
      "epoch: 58 , loss: 4.949314117431641\n",
      "epoch: 59 , loss: 4.949246883392334\n",
      "epoch: 60 , loss: 4.949189186096191\n",
      "epoch: 61 , loss: 4.9491400718688965\n",
      "epoch: 62 , loss: 4.9490790367126465\n",
      "epoch: 63 , loss: 4.949005126953125\n",
      "epoch: 64 , loss: 4.94895601272583\n",
      "epoch: 65 , loss: 4.948906421661377\n",
      "epoch: 66 , loss: 4.9488525390625\n",
      "epoch: 67 , loss: 4.948794841766357\n",
      "epoch: 68 , loss: 4.94874906539917\n",
      "epoch: 69 , loss: 4.948715686798096\n",
      "epoch: 70 , loss: 4.948680877685547\n",
      "epoch: 71 , loss: 4.948637962341309\n",
      "epoch: 72 , loss: 4.948596477508545\n",
      "epoch: 73 , loss: 4.9485626220703125\n",
      "epoch: 74 , loss: 4.948524475097656\n",
      "epoch: 75 , loss: 4.948484897613525\n",
      "epoch: 76 , loss: 4.9484429359436035\n",
      "epoch: 77 , loss: 4.948400020599365\n",
      "epoch: 78 , loss: 4.948354721069336\n",
      "epoch: 79 , loss: 4.9483184814453125\n",
      "epoch: 80 , loss: 4.948276996612549\n",
      "epoch: 81 , loss: 4.9482574462890625\n",
      "epoch: 82 , loss: 4.948230743408203\n",
      "epoch: 83 , loss: 4.948189735412598\n",
      "epoch: 84 , loss: 4.948150157928467\n",
      "epoch: 85 , loss: 4.94811487197876\n",
      "epoch: 86 , loss: 4.948087215423584\n",
      "epoch: 87 , loss: 4.94805383682251\n",
      "epoch: 88 , loss: 4.948029041290283\n",
      "epoch: 89 , loss: 4.9480133056640625\n",
      "epoch: 90 , loss: 4.947971343994141\n",
      "epoch: 91 , loss: 4.947937965393066\n",
      "epoch: 92 , loss: 4.947896480560303\n",
      "epoch: 93 , loss: 4.947860240936279\n",
      "epoch: 94 , loss: 4.947819232940674\n",
      "epoch: 95 , loss: 4.947790622711182\n",
      "epoch: 96 , loss: 4.947766304016113\n",
      "epoch: 97 , loss: 4.9477314949035645\n",
      "epoch: 98 , loss: 4.947710037231445\n",
      "epoch: 99 , loss: 4.947679042816162\n"
     ]
    }
   ],
   "source": [
    "LR = 0.01\n",
    "EPOCH = 100\n",
    "\n",
    "AELoss = []\n",
    "optimizer = torch.optim.SGD(autoencoder.parameters(), weight_decay=0.001, lr=LR,momentum=0.9)\n",
    "loss_func = nn.MSELoss()\n",
    "\n",
    "for epoch in range(EPOCH):\n",
    "    X_tr = Variable(X.view(-1, 9125*3))\n",
    "    \n",
    "    encoded, decoded = autoencoder(X_tr)\n",
    "\n",
    "    loss = loss_func(decoded, X_tr)      # mean square error\n",
    "    AELoss.append(loss.data[0])\n",
    "    if epoch%10==0:\n",
    "        print('epoch:',epoch,', loss:', loss.data[0])\n",
    "    optimizer.zero_grad()               # clear gradients for this training step\n",
    "    loss.backward()                     # backpropagation, compute gradients\n",
    "    optimizer.step()                    # apply gradients   "
   ]
  },
  {
   "cell_type": "code",
   "execution_count": 22,
   "metadata": {},
   "outputs": [
    {
     "data": {
      "text/plain": [
       "[<matplotlib.lines.Line2D at 0x23d0bcb6f60>]"
      ]
     },
     "execution_count": 22,
     "metadata": {},
     "output_type": "execute_result"
    },
    {
     "data": {
      "image/png": "[encoded data removed]",
      "text/plain": [
       "<Figure size 432x288 with 1 Axes>"
      ]
     },
     "metadata": {},
     "output_type": "display_data"
    }
   ],
   "source": [
    "plt.plot(range(len(AELoss)),AELoss) "
   ]
  },
  {
   "cell_type": "code",
   "execution_count": 47,
   "metadata": {},
   "outputs": [
    {
     "name": "stderr",
     "output_type": "stream",
     "text": [
      "C:\\Users\\chenz\\AppData\\Local\\conda\\conda\\envs\\pytorch\\lib\\site-packages\\torch\\serialization.py:159: UserWarning: Couldn't retrieve source code for container of type AutoEncoder. It won't be checked for correctness upon loading.\n",
      "  \"type \" + obj.__name__ + \". It won't be checked \"\n"
     ]
    }
   ],
   "source": [
    "torch.save(autoencoder, 'autoencoder.pkl')"
   ]
  },
  {
   "cell_type": "markdown",
   "metadata": {},
   "source": [
    "### Use kmeans with hinden features we found above to cluster users"
   ]
  },
  {
   "cell_type": "code",
   "execution_count": 18,
   "metadata": {},
   "outputs": [],
   "source": [
    "autoencoder = torch.load('autoencoder.pkl')"
   ]
  },
  {
   "cell_type": "code",
   "execution_count": 23,
   "metadata": {},
   "outputs": [],
   "source": [
    "encoded, _ = autoencoder(X_tr)\n",
    "hf = encoded.data.numpy()"
   ]
  },
  {
   "cell_type": "markdown",
   "metadata": {},
   "source": [
    "How many user groups ?????"
   ]
  },
  {
   "cell_type": "code",
   "execution_count": 24,
   "metadata": {},
   "outputs": [],
   "source": [
    "n_clusters = 9\n",
    "\n",
    "kmeans = KMeans(n_clusters=n_clusters).fit(hf)"
   ]
  },
  {
   "cell_type": "code",
   "execution_count": 56,
   "metadata": {},
   "outputs": [
    {
     "data": {
      "text/plain": [
       "['kmeans.m']"
      ]
     },
     "execution_count": 56,
     "metadata": {},
     "output_type": "execute_result"
    }
   ],
   "source": [
    "joblib.dump(kmeans, \"kmeans.m\")"
   ]
  },
  {
   "cell_type": "code",
   "execution_count": 25,
   "metadata": {},
   "outputs": [],
   "source": [
    "User_label = kmeans.labels_\n",
    "User_mean = kmeans.cluster_centers_"
   ]
  },
  {
   "cell_type": "code",
   "execution_count": 26,
   "metadata": {},
   "outputs": [
    {
     "data": {
      "text/plain": [
       "(array([  3,   4,   5,   6,  11,  14,  16,  18,  19,  20,  21,  22,  27,\n",
       "         29,  32,  33,  34,  36,  38,  40,  42,  44,  45,  47,  48,  50,\n",
       "         51,  52,  55,  56,  57,  59,  60,  62,  64,  65,  66,  67,  68,\n",
       "         72,  73,  74,  75,  76,  77,  80,  82,  85,  87,  89,  92,  94,\n",
       "         95,  97,  98, 101, 102, 104, 105, 110, 112, 114, 116, 117, 118,\n",
       "        119, 122, 124, 127, 128, 129, 130, 131, 133, 136, 138, 141, 147,\n",
       "        148, 149, 151, 152, 154, 155, 156, 157, 158, 159, 163, 164, 165,\n",
       "        166, 168, 169, 170, 172, 173, 174, 175, 176, 178, 179, 180, 181,\n",
       "        184, 186, 188, 189, 192, 194, 195, 196, 197, 198, 199, 200, 201,\n",
       "        205, 209, 210, 211, 212, 213, 214, 215, 216, 217, 218, 219, 221,\n",
       "        223, 226, 227, 228, 231, 233, 234, 235, 237, 238, 239, 241, 242,\n",
       "        244, 246, 247, 252, 253, 254, 256, 257, 258, 261, 262, 263, 264,\n",
       "        267, 268, 269, 274, 275, 277, 280, 281, 282, 284, 285, 286, 288,\n",
       "        289, 290, 291, 292, 293, 294, 295, 296, 297, 298, 302, 303, 304,\n",
       "        305, 307, 308, 309, 310, 311, 312, 314, 320, 321, 323, 325, 326,\n",
       "        327, 329, 330, 334, 335, 340, 341, 343, 344, 345, 347, 349, 350,\n",
       "        352, 354, 356, 357, 358, 359, 362, 364, 365, 366, 367, 369, 371,\n",
       "        372, 375, 376, 379, 380, 381, 383, 385, 386, 387, 389, 390, 392,\n",
       "        393, 394, 396, 397, 400, 401, 403, 404, 405, 406, 407, 408, 411,\n",
       "        413, 416, 417, 418, 419, 421, 422, 423, 426, 427, 429, 430, 432,\n",
       "        433, 435, 438, 440, 441, 443, 449, 450, 451, 452, 456, 459, 460,\n",
       "        461, 462, 464, 465, 466, 467, 468, 469, 470, 471, 473, 474, 475,\n",
       "        478, 479, 480, 481, 484, 485, 487, 488, 490, 491, 492, 495, 496,\n",
       "        497, 498, 499, 500, 501, 504, 508, 509, 513, 514, 515, 517, 518,\n",
       "        519, 521, 523, 524, 525, 526, 527, 528, 529, 530, 532, 533, 536,\n",
       "        540, 541, 543, 544, 545, 546, 547, 549, 550, 553, 556, 557, 558,\n",
       "        559, 560, 561, 563, 570, 572, 573, 574, 576, 579, 581, 584, 586,\n",
       "        590, 591, 593, 594, 595, 596, 597, 598, 602, 604, 605, 606, 607,\n",
       "        608, 609, 611, 613, 614, 616, 619, 620, 622, 623, 625, 627, 630,\n",
       "        637, 640, 641, 643, 644, 645, 646, 647, 651, 652, 653, 654, 655,\n",
       "        657, 660, 663, 664, 670], dtype=int64),)"
      ]
     },
     "execution_count": 26,
     "metadata": {},
     "output_type": "execute_result"
    }
   ],
   "source": [
    "np.where(np.array(User_label)==1)"
   ]
  },
  {
   "cell_type": "markdown",
   "metadata": {},
   "source": [
    "### Store movies for each cluster\n",
    "Use what features to sort movies? How to store and reload this list???"
   ]
  },
  {
   "cell_type": "code",
   "execution_count": 27,
   "metadata": {},
   "outputs": [
    {
     "name": "stdout",
     "output_type": "stream",
     "text": [
      "[array([ 456,  589,  355, ..., 3133, 3127, 9124], dtype=int64), array([ 259,  355, 2857, ..., 6390,  867, 9124], dtype=int64), array([ 295,  479,  587, ..., 3359, 3373, 9124], dtype=int64), array([ 540, 1198, 1355, ..., 3063, 3057, 9124], dtype=int64), array([1370, 1128,   30, ..., 3107, 3101, 9124], dtype=int64), array([ 779,  647,   31, ..., 3224, 3218, 9124], dtype=int64), array([ 777, 2570, 6501, ..., 3052, 3046, 9124], dtype=int64), array([ 317,  295, 2958, ..., 3476, 3436, 9124], dtype=int64), array([4225, 2570, 3990, ..., 3051, 3045, 9124], dtype=int64), array([ 259, 2570, 1195, ..., 3301, 3316, 9124], dtype=int64)]\n"
     ]
    }
   ],
   "source": [
    "movies = []\n",
    "X_n = X.numpy()\n",
    "for i in range(n_clusters):\n",
    "    usersi = X_n[np.array(User_label)==i,:,0]  ### get all users in i cluster, features: rate\n",
    "    SuperUseri = np.sum(usersi,0) ###sum up all user's rating for i cluster\n",
    "    mvid = np.argsort(-SuperUseri,0)\n",
    "    movies.append(mvid)\n",
    "print(movies)"
   ]
  },
  {
   "cell_type": "code",
   "execution_count": 39,
   "metadata": {},
   "outputs": [],
   "source": [
    "np.savetxt(\"filename.txt\",movies)"
   ]
  },
  {
   "cell_type": "code",
   "execution_count": 40,
   "metadata": {},
   "outputs": [
    {
     "name": "stdout",
     "output_type": "stream",
     "text": [
      "[[ 456.  589.  355. ... 3133. 3127. 9124.]\n",
      " [ 259.  355. 2857. ... 6390.  867. 9124.]\n",
      " [ 295.  479.  587. ... 3359. 3373. 9124.]\n",
      " ...\n",
      " [ 317.  295. 2958. ... 3476. 3436. 9124.]\n",
      " [4225. 2570. 3990. ... 3051. 3045. 9124.]\n",
      " [ 259. 2570. 1195. ... 3301. 3316. 9124.]]\n"
     ]
    }
   ],
   "source": [
    "b = np.loadtxt(\"filename.txt\")\n",
    "print(b)"
   ]
  },
  {
   "cell_type": "markdown",
   "metadata": {},
   "source": [
    "### Word cloud for each cluster"
   ]
  },
  {
   "cell_type": "code",
   "execution_count": 76,
   "metadata": {
    "scrolled": false
   },
   "outputs": [
    {
     "name": "stderr",
     "output_type": "stream",
     "text": [
      "C:\\Users\\chenz\\AppData\\Local\\conda\\conda\\envs\\pytorch\\lib\\site-packages\\ipykernel_launcher.py:3: DeprecationWarning: `imread` is deprecated!\n",
      "`imread` is deprecated in SciPy 1.0.0, and will be removed in 1.2.0.\n",
      "Use ``imageio.imread`` instead.\n",
      "  This is separate from the ipykernel package so we can avoid doing imports until\n"
     ]
    },
    {
     "data": {
      "image/png": "[encoded data removed]",
      "text/plain": [
       "<Figure size 432x288 with 1 Axes>"
      ]
     },
     "metadata": {},
     "output_type": "display_data"
    },
    {
     "data": {
      "image/png": "[encoded data removed]",
      "text/plain": [
       "<Figure size 432x288 with 1 Axes>"
      ]
     },
     "metadata": {},
     "output_type": "display_data"
    },
    {
     "data": {
      "image/png": "[encoded data removed]",
      "text/plain": [
       "<Figure size 432x288 with 1 Axes>"
      ]
     },
     "metadata": {},
     "output_type": "display_data"
    },
    {
     "data": {
      "image/png": "[encoded data removed]",
      "text/plain": [
       "<Figure size 432x288 with 1 Axes>"
      ]
     },
     "metadata": {},
     "output_type": "display_data"
    },
    {
     "data": {
      "image/png": "[encoded data removed]",
      "text/plain": [
       "<Figure size 432x288 with 1 Axes>"
      ]
     },
     "metadata": {},
     "output_type": "display_data"
    },
    {
     "data": {
      "image/png": "[encoded data removed]",
      "text/plain": [
       "<Figure size 432x288 with 1 Axes>"
      ]
     },
     "metadata": {},
     "output_type": "display_data"
    },
    {
     "data": {
      "image/png": "[encoded data removed]",
      "text/plain": [
       "<Figure size 432x288 with 1 Axes>"
      ]
     },
     "metadata": {},
     "output_type": "display_data"
    },
    {
     "data": {
      "image/png": "[encoded data removed]",
      "text/plain": [
       "<Figure size 432x288 with 1 Axes>"
      ]
     },
     "metadata": {},
     "output_type": "display_data"
    },
    {
     "data": {
      "image/png": "[encoded data removed]",
      "text/plain": [
       "<Figure size 432x288 with 1 Axes>"
      ]
     },
     "metadata": {},
     "output_type": "display_data"
    },
    {
     "data": {
      "image/png": "[encoded data removed]",
      "text/plain": [
       "<Figure size 432x288 with 1 Axes>"
      ]
     },
     "metadata": {},
     "output_type": "display_data"
    }
   ],
   "source": [
    "from wordcloud import WordCloud, ImageColorGenerator\n",
    "from scipy.misc import imread\n",
    "back_coloring = imread(\"love.jpg\")\n",
    "i = 1\n",
    "for clus in movies:\n",
    "    m_clus = movie[clus[:100],2]\n",
    "    wl_space_split = \" \".join(m_clus)\n",
    "    replaced = wl_space_split.replace(\"|\",\" \")\n",
    "    result = ' '.join(replaced.split())\n",
    "    my_wordcloud = WordCloud(background_color=\"white\",mask=back_coloring).generate(result)\n",
    "    image_colors = ImageColorGenerator(back_coloring)\n",
    "    plt.figure(i)\n",
    "    plt.imshow(my_wordcloud.recolor(color_func=image_colors))\n",
    "    plt.axis(\"off\")\n",
    "    i +=1"
   ]
  },
  {
   "cell_type": "markdown",
   "metadata": {},
   "source": [
    "# Testing/Recommendation"
   ]
  },
  {
   "cell_type": "markdown",
   "metadata": {},
   "source": [
    "### Find movies for a user by choosing high related movie watched by other users in the same cluster\n",
    "X_ts should in shape (userid, movieid, features)"
   ]
  },
  {
   "cell_type": "code",
   "execution_count": 71,
   "metadata": {
    "scrolled": false
   },
   "outputs": [
    {
     "name": "stdout",
     "output_type": "stream",
     "text": [
      "===========================================\n",
      "===========================================\n",
      "For user  1\n",
      "Movie name:  Defying Gravity (1997)  ||genres:  Drama\n",
      "Movie name:  Delta of Venus (1995)  ||genres:  Drama\n",
      "Movie name:  Wallace & Gromit: The Best of Aardman Animation (1996)  ||genres:  Adventure|Animation|Comedy\n",
      "Movie name:  Tales from the Hood (1995)  ||genres:  Action|Crime|Horror\n",
      "Movie name:  Only You (1994)  ||genres:  Comedy|Romance\n",
      "Movie name:  Street Fighter (1994)  ||genres:  Action|Adventure|Fantasy\n",
      "Movie name:  Smilla's Sense of Snow (1997)  ||genres:  Drama|Thriller\n",
      "Movie name:  Crooklyn (1994)  ||genres:  Comedy|Drama\n",
      "Movie name:  Substitute, The (1996)  ||genres:  Action|Crime|Drama\n",
      "Movie name:  Gothic (1986)  ||genres:  Drama|Horror\n",
      "===========================================\n",
      "===========================================\n",
      "For user  2\n",
      "Movie name:  Crooklyn (1994)  ||genres:  Comedy|Drama\n",
      "Movie name:  William Shakespeare's Romeo + Juliet (1996)  ||genres:  Drama|Romance\n",
      "Movie name:  Snow White and the Seven Dwarfs (1937)  ||genres:  Animation|Children|Drama|Fantasy|Musical\n",
      "Movie name:  Only You (1994)  ||genres:  Comedy|Romance\n",
      "Movie name:  Breakdown (1997)  ||genres:  Action|Thriller\n",
      "Movie name:  Mad Max Beyond Thunderdome (1985)  ||genres:  Action|Adventure|Sci-Fi\n",
      "Movie name:  Underworld: Rise of the Lycans (2009)  ||genres:  Action|Fantasy|Horror|Thriller\n",
      "Movie name:  Mighty Aphrodite (1995)  ||genres:  Comedy|Drama|Romance\n",
      "Movie name:  Horse Feathers (1932)  ||genres:  Comedy\n",
      "Movie name:  Ong-Bak: The Thai Warrior (Ong Bak) (2003)  ||genres:  Action|Thriller\n",
      "===========================================\n",
      "===========================================\n",
      "For user  3\n",
      "Movie name:  Little Lord Fauntleroy (1936)  ||genres:  Drama\n",
      "Movie name:  Amityville Horror, The (1979)  ||genres:  Drama|Horror|Mystery|Thriller\n",
      "Movie name:  Twelve Monkeys (a.k.a. 12 Monkeys) (1995)  ||genres:  Mystery|Sci-Fi|Thriller\n",
      "Movie name:  Hunchback of Notre Dame, The (1996)  ||genres:  Animation|Children|Drama|Musical|Romance\n",
      "Movie name:  My Fair Lady (1964)  ||genres:  Comedy|Drama|Musical|Romance\n",
      "Movie name:  Charade (1963)  ||genres:  Comedy|Crime|Mystery|Romance|Thriller\n",
      "Movie name:  Wallace & Gromit: The Best of Aardman Animation (1996)  ||genres:  Adventure|Animation|Comedy\n",
      "Movie name:  Toy Story (1995)  ||genres:  Adventure|Animation|Children|Comedy|Fantasy\n",
      "Movie name:  Threesome (1994)  ||genres:  Comedy|Romance\n",
      "Movie name:  Heat (1995)  ||genres:  Action|Crime|Thriller\n"
     ]
    },
    {
     "name": "stderr",
     "output_type": "stream",
     "text": [
      "C:\\Users\\chenz\\AppData\\Local\\conda\\conda\\envs\\pytorch\\lib\\site-packages\\ipykernel_launcher.py:22: DeprecationWarning: elementwise == comparison failed; this will raise an error in the future.\n"
     ]
    }
   ],
   "source": [
    "def rcmd(X_ts,X_ts_norm):\n",
    "    #Load models\n",
    "    autoencoder = torch.load('autoencoder.pkl')\n",
    "    kmeans = joblib.load(\"kmeans.m\")\n",
    "    \n",
    "    \n",
    "    #find watched movie in movie list for users\n",
    "    rate = X_ts.numpy()[:,:,0]\n",
    " \n",
    "    #encoder\n",
    "    encoded, _ = autoencoder(Variable(X_ts_norm.view(-1, 9125*3)))\n",
    "    hf = encoded.data.numpy()\n",
    "    #kmeans\n",
    "    user_label = kmeans.predict(hf)\n",
    "    #movie list\n",
    "    movies = np.loadtxt(\"mvrcmdlist.txt\")\n",
    "    rcmdlist = []\n",
    "    for u in range(len(X_ts)):\n",
    "        rcmd = movies[user_label[u]-1].copy()\n",
    "        uwatched = list(np.where(rate[u,:]!=0))\n",
    "        for mv in uwatched:\n",
    "            if mv in rcmd: rcmd.remove(mv)\n",
    "        rcmdlist.append(rcmd)\n",
    "        \n",
    "    #recommend first 10 movies for each user\n",
    "    return np.array(rcmdlist,dtype=int)[:,:10]\n",
    "\n",
    "X_ts = X_org[:3].clone()\n",
    "X_ts_norm = X[:3].clone()\n",
    "rcmdlist = rcmd(X_ts,X_ts_norm)\n",
    "for i in range(len(rcmdlist)):\n",
    "    print('===========================================')\n",
    "    print('===========================================')\n",
    "    print('For user ',i+1)\n",
    "    for j in range(len(rcmdlist[0])):\n",
    "        print('Movie name: ',movie[rcmdlist[i,j],1],' ||genres: ',movie[rcmdlist[i,j],2])"
   ]
  },
  {
   "cell_type": "code",
   "execution_count": null,
   "metadata": {},
   "outputs": [],
   "source": []
  }
 ],
 "metadata": {
  "kernelspec": {
   "display_name": "Python 3",
   "language": "python",
   "name": "python3"
  },
  "language_info": {
   "codemirror_mode": {
    "name": "ipython",
    "version": 3
   },
   "file_extension": ".py",
   "mimetype": "text/x-python",
   "name": "python",
   "nbconvert_exporter": "python",
   "pygments_lexer": "ipython3",
   "version": "3.6.4"
  }
 },
 "nbformat": 4,
 "nbformat_minor": 2
}
